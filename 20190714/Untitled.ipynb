{
 "cells": [
  {
   "cell_type": "code",
   "execution_count": 3,
   "metadata": {},
   "outputs": [
    {
     "name": "stdout",
     "output_type": "stream",
     "text": [
      "바람의 속도:6445\n",
      "Hurricane\n"
     ]
    }
   ],
   "source": [
    "speed = int(input('바람의 속도:'))\n",
    "\n",
    "if speed < 1:\n",
    "    print('1보다 큰 수를 입력하세요')\n",
    "elif 1 <= speed <= 3:\n",
    "    print(\"Light air\")\n",
    "elif 4 <= speed <= 27 : \n",
    "    print(\"Breeze\")\n",
    "elif 28 <= speed <= 47 : \n",
    "    print(\"Gale\")\n",
    "elif 48 <= speed <= 63 : \n",
    "    print(\"Storm\")\n",
    "elif speed >= 64 :\n",
    "    print(\"Hurricane\")    "
   ]
  },
  {
   "cell_type": "code",
   "execution_count": 5,
   "metadata": {},
   "outputs": [
    {
     "name": "stdout",
     "output_type": "stream",
     "text": [
      "숫자입력:10\n",
      "정답입니다.\n"
     ]
    }
   ],
   "source": [
    "u_i=input('숫자입력:')\n",
    "u_i = int(u_i)\n",
    "if u_i == 10 :\n",
    "    print(\"정답입니다.\")"
   ]
  },
  {
   "cell_type": "code",
   "execution_count": null,
   "metadata": {},
   "outputs": [],
   "source": [
    "u_i=int(input('숫자입력:'))\n",
    "if u_i % 2 == 1 :\n",
    "    print(\"홀수\")\n",
    "elif u_i % 2 != 1:\n",
    "    print(\"짝수\")"
   ]
  },
  {
   "cell_type": "code",
   "execution_count": null,
   "metadata": {},
   "outputs": [],
   "source": []
  }
 ],
 "metadata": {
  "kernelspec": {
   "display_name": "Python 3",
   "language": "python",
   "name": "python3"
  },
  "language_info": {
   "codemirror_mode": {
    "name": "ipython",
    "version": 3
   },
   "file_extension": ".py",
   "mimetype": "text/x-python",
   "name": "python",
   "nbconvert_exporter": "python",
   "pygments_lexer": "ipython3",
   "version": "3.7.1"
  }
 },
 "nbformat": 4,
 "nbformat_minor": 2
}
