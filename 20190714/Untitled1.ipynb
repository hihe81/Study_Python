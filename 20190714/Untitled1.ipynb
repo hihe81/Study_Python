{
 "cells": [
  {
   "cell_type": "code",
   "execution_count": 1,
   "metadata": {},
   "outputs": [
    {
     "name": "stdout",
     "output_type": "stream",
     "text": [
      "점수입력:11\n",
      "입력하신 학점 11은 과락입니다.\n"
     ]
    }
   ],
   "source": [
    "score = input('점수입력:')\n",
    "score = int(score)\n",
    "if score < 0 or score > 100 :\n",
    "    print('잘못 입력했습니다.')\n",
    "elif score >= 80:\n",
    "    print('입력하신 학점 {}은 A학점입니다.' .format(score))\n",
    "elif 40 < score < 80:\n",
    "    print('입력하신 학점 {}은 B학점입니다.' .format(score))\n",
    "elif score <= 40:\n",
    "    print('입력하신 학점 {}은 과락입니다.' .format(score))\n",
    "else:\n",
    "    print('몰라')   "
   ]
  },
  {
   "cell_type": "code",
   "execution_count": null,
   "metadata": {},
   "outputs": [],
   "source": []
  }
 ],
 "metadata": {
  "kernelspec": {
   "display_name": "Python 3",
   "language": "python",
   "name": "python3"
  },
  "language_info": {
   "codemirror_mode": {
    "name": "ipython",
    "version": 3
   },
   "file_extension": ".py",
   "mimetype": "text/x-python",
   "name": "python",
   "nbconvert_exporter": "python",
   "pygments_lexer": "ipython3",
   "version": "3.7.1"
  }
 },
 "nbformat": 4,
 "nbformat_minor": 2
}
