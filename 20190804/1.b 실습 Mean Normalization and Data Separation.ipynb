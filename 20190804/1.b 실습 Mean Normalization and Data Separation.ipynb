{
 "cells": [
  {
   "cell_type": "markdown",
   "metadata": {},
   "source": [
    "# Mean Normalization\n",
    "\n",
    "머신러닝 및 데이터 분석에서는 데이터 노멀라이징(정규화)을 합니다. \n",
    "정규화는 데이터의 범위를 0과 1로 변환하여 데이터 분포를 조정하는 방법입니다.\n",
    "예를 들어 여러개의 feature가 있는데 어떤거는 100 ~ 200사이의 값이고, 어떤거는 -10 ~ 10 사이의 값이고, 어떤거는 -100 ~ 300 사이의 값이라고 해보면, 이 값들을 분석하기 쉽지가 않습니다. 따라서 이런 불편을 줄이기 위해 범주를 일치시키는 작업을 normalization 이라 합니다. 보통은 0 ~ 1 사이의 값으로 범주를 일치시킵니다.\n",
    "\n"
   ]
  },
  {
   "cell_type": "code",
   "execution_count": 11,
   "metadata": {},
   "outputs": [
    {
     "name": "stdout",
     "output_type": "stream",
     "text": [
      "(1000, 20)\n"
     ]
    }
   ],
   "source": [
    "# import NumPy  \n",
    "import numpy as np\n",
    "\n",
    "# 1000 x 20 ndarray 배열을, 0이상 5001미만(0 ~ 5000) 의 random integers 로 만드세요.\n",
    "X = np.random.randint(0, 5001, size=(1000,20))\n",
    "# X = np.random.randint(0, 5001, 1000*20).reshape(1000,20)\n",
    "\n",
    "# print the shape of X\n",
    "print(X.shape)"
   ]
  },
  {
   "cell_type": "code",
   "execution_count": 12,
   "metadata": {},
   "outputs": [
    {
     "name": "stdout",
     "output_type": "stream",
     "text": [
      "[[2028 3348 3703 ... 3423 2492  169]\n",
      " [3137 1360 3782 ... 4410 3254 1811]\n",
      " [4282  328 4998 ...  808 1898 4793]\n",
      " ...\n",
      " [1378  406 3852 ... 1646   32  401]\n",
      " [1713 2458  703 ... 1528 1491 4098]\n",
      " [ 389 2293 4623 ... 4937   87 3110]]\n"
     ]
    }
   ],
   "source": [
    "print(X)"
   ]
  },
  {
   "cell_type": "markdown",
   "metadata": {},
   "source": [
    "다음의 mean normalization 식을 이용해서 정규화 하세요.\n",
    "\n",
    "$\\mbox{Norm_Col}_i = \\frac{\\mbox{Col}_i - \\mu_i}{\\sigma_i}$\n",
    "\n",
    "평균과 표준편차를 이용하면, 위의 정규화 식을 사용할 수 있습니다.\n",
    "\n"
   ]
  },
  {
   "cell_type": "code",
   "execution_count": 13,
   "metadata": {},
   "outputs": [],
   "source": [
    "# 열을 고정하고 각 행에 대한 평균, 즉 모든 열별 평균값을 얻어온다.\n",
    "ave_cols = np.average(X, axis= 0 )\n",
    "\n",
    "# 열을 고정하고 각 행에 대한 표준편차, 즉 모든 열별 표준편차값을 얻어온다.\n",
    "std_cols = np.std(X, axis = 0)"
   ]
  },
  {
   "cell_type": "markdown",
   "metadata": {},
   "source": [
    "각 벡터의 shape 을 확인하세요."
   ]
  },
  {
   "cell_type": "code",
   "execution_count": 14,
   "metadata": {},
   "outputs": [
    {
     "name": "stdout",
     "output_type": "stream",
     "text": [
      "(20,)\n",
      "(20,)\n"
     ]
    }
   ],
   "source": [
    "# Print the shape of ave_cols\n",
    "print(ave_cols.shape)\n",
    "\n",
    "# Print the shape of std_cols\n",
    "print(std_cols.shape)"
   ]
  },
  {
   "cell_type": "markdown",
   "metadata": {},
   "source": [
    "위 공식대로 노멀라이제이션 하세요."
   ]
  },
  {
   "cell_type": "code",
   "execution_count": 22,
   "metadata": {},
   "outputs": [],
   "source": [
    "# Mean normalize X\n",
    "X_norm = (X - ave_cols) / std_cols"
   ]
  },
  {
   "cell_type": "markdown",
   "metadata": {},
   "source": [
    "제대로 수행했으면 아마 $X_{\\tiny{\\mbox{norm}}}$ 배열은 값들이 0 근처의 값들로 나올겁니다.아래를 통해 확인하세요."
   ]
  },
  {
   "cell_type": "code",
   "execution_count": 23,
   "metadata": {},
   "outputs": [
    {
     "name": "stdout",
     "output_type": "stream",
     "text": [
      "[[-0.34717475  0.54920451  0.82648999 ...  0.60613861  0.01416257\n",
      "  -1.51975116]\n",
      " [ 0.41980932 -0.80657985  0.88181792 ...  1.29765617  0.54646379\n",
      "  -0.41761254]\n",
      " [ 1.21169098 -1.51038743  1.7334478  ... -1.22599758 -0.40078091\n",
      "   1.58395711]\n",
      " ...\n",
      " [-0.79671456 -1.45719267  0.93084266 ... -0.63887325 -1.70429021\n",
      "  -1.36402877]\n",
      " [-0.56502866 -0.05776132 -1.27457057 ... -0.72154708 -0.68509403\n",
      "   1.11746116]\n",
      " [-1.48070666 -0.1702887   1.47081523 ...  1.66688591 -1.66586952\n",
      "   0.45429858]]\n",
      "[-1.73729015 -1.73203225 -1.76411768 -1.6930683  -1.73391494 -1.74402214\n",
      " -1.76120782 -1.72591322 -1.6911296  -1.73886016 -1.73110374 -1.73608841\n",
      " -1.69560338 -1.70879812 -1.6805998  -1.70736959 -1.71572572 -1.79140251\n",
      " -1.72105561 -1.63184443]\n",
      "\n",
      "[1.70272676 1.67516024 1.7334478  1.78292757 1.70087961 1.6933486\n",
      " 1.72581975 1.66345197 1.75041974 1.77111283 1.71305024 1.74427224\n",
      " 1.7216595  1.67028055 1.7947717  1.72472654 1.74703519 1.70892346\n",
      " 1.76125622 1.71618689]\n",
      "\n"
     ]
    }
   ],
   "source": [
    "# X_norm 을 출력(프린트) 하세요.\n",
    "print(X_norm)\n",
    "\n",
    "# 각 컬럼(열)별 minimum value 를 출력하세요.\n",
    "print(np.min(X_norm, axis = 0))\n",
    "print()\n",
    "\n",
    "# 각 컬럼(열)별 maximum value 를 출력하세요.\n",
    "print(np.max(X_norm, axis = 0))\n",
    "print()"
   ]
  },
  {
   "cell_type": "code",
   "execution_count": null,
   "metadata": {},
   "outputs": [],
   "source": []
  }
 ],
 "metadata": {
  "kernelspec": {
   "display_name": "Python 3",
   "language": "python",
   "name": "python3"
  },
  "language_info": {
   "codemirror_mode": {
    "name": "ipython",
    "version": 3
   },
   "file_extension": ".py",
   "mimetype": "text/x-python",
   "name": "python",
   "nbconvert_exporter": "python",
   "pygments_lexer": "ipython3",
   "version": "3.7.1"
  }
 },
 "nbformat": 4,
 "nbformat_minor": 2
}
