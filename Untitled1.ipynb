{
 "cells": [
  {
   "cell_type": "code",
   "execution_count": 1,
   "metadata": {},
   "outputs": [
    {
     "name": "stdout",
     "output_type": "stream",
     "text": [
      "첫번째 실수:12\n",
      "두번째 실수:12\n",
      "First is 12.0, and second is 12.0. So. Multiplication = 144.0, addition = 24.0\n"
     ]
    }
   ],
   "source": [
    "frt = float(input(\"첫번째 실수:\"))\n",
    "snd = float(input(\"두번째 실수:\"))\n",
    "Mult = frt * snd\n",
    "add = frt + snd\n",
    "\n",
    "print('First is {}, and second is {}. So. Multiplication = {}, addition = {}' .format(frt, snd, Mult, add))"
   ]
  },
  {
   "cell_type": "code",
   "execution_count": null,
   "metadata": {},
   "outputs": [],
   "source": []
  }
 ],
 "metadata": {
  "kernelspec": {
   "display_name": "Python 3",
   "language": "python",
   "name": "python3"
  },
  "language_info": {
   "codemirror_mode": {
    "name": "ipython",
    "version": 3
   },
   "file_extension": ".py",
   "mimetype": "text/x-python",
   "name": "python",
   "nbconvert_exporter": "python",
   "pygments_lexer": "ipython3",
   "version": "3.7.1"
  }
 },
 "nbformat": 4,
 "nbformat_minor": 2
}
