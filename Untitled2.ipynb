{
 "cells": [
  {
   "cell_type": "code",
   "execution_count": null,
   "metadata": {},
   "outputs": [],
   "source": [
    "essay = input(\"10자 이내의 문장을 입력하세요:\")"
   ]
  },
  {
   "cell_type": "code",
   "execution_count": null,
   "metadata": {},
   "outputs": [],
   "source": [
    "essay_len = len(essay)\n",
    "essay_len"
   ]
  },
  {
   "cell_type": "code",
   "execution_count": null,
   "metadata": {},
   "outputs": [],
   "source": [
    "if essay_len > 10:\n",
    "    print(\"전체글자수는 {}입니다. 글자수가 {} 초과되어 등록할수 없습니다.\" .format(essay_len, essay_len - 10))\n",
    "elif essay_len = 0:\n",
    "    print(\"입력된 글자가 {}입니다. 등록할 글자가 없습니다.\" .format(essay_len))\n",
    "else : \n",
    "    print(\"입력된 글자수가 {} 입니다. 등록 가능합니다.\")\n"
   ]
  },
  {
   "cell_type": "code",
   "execution_count": null,
   "metadata": {},
   "outputs": [],
   "source": []
  }
 ],
 "metadata": {
  "kernelspec": {
   "display_name": "Python 3",
   "language": "python",
   "name": "python3"
  }
 },
 "nbformat": 4,
 "nbformat_minor": 2
}
